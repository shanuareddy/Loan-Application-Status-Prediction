{
 "cells": [
  {
   "cell_type": "code",
   "execution_count": 1,
   "id": "807f06f0",
   "metadata": {},
   "outputs": [],
   "source": [
    "# Importing Necessory Libraries\n",
    "import pandas as pd\n",
    "import numpy as np\n",
    "import seaborn as sns\n",
    "import matplotlib.pyplot as plt\n",
    "%matplotlib inline\n",
    "import warnings\n",
    "warnings.filterwarnings(\"ignore\")\n",
    "\n",
    "# Preprocessing\n",
    "from sklearn.preprocessing import LabelEncoder\n",
    "from sklearn.preprocessing import StandardScaler\n",
    "from sklearn.preprocessing import PowerTransformer\n",
    "from scipy.stats import zscore\n",
    "from sklearn.preprocessing import OrdinalEncoder\n",
    "\n",
    "# Models:\n",
    "from sklearn.model_selection import train_test_split,GridSearchCV\n",
    "\n",
    "from sklearn.ensemble import RandomForestClassifier\n",
    "from sklearn.linear_model import LogisticRegression\n",
    "from sklearn.neighbors import KNeighborsClassifier\n",
    "from sklearn.tree import DecisionTreeClassifier\n",
    "from sklearn.svm import SVC\n",
    "from sklearn.ensemble import GradientBoostingClassifier\n",
    "from sklearn.model_selection import cross_val_score\n",
    "from sklearn.pipeline import Pipeline\n",
    "from statsmodels.stats.outliers_influence import variance_inflation_factor\n",
    "\n",
    "#Matrics for evaluation:\n",
    "from sklearn.metrics import accuracy_score,confusion_matrix,classification_report,plot_roc_curve,roc_auc_score\n"
   ]
  },
  {
   "cell_type": "code",
   "execution_count": 2,
   "id": "abff56fb",
   "metadata": {},
   "outputs": [
    {
     "data": {
      "text/html": [
       "<div>\n",
       "<style scoped>\n",
       "    .dataframe tbody tr th:only-of-type {\n",
       "        vertical-align: middle;\n",
       "    }\n",
       "\n",
       "    .dataframe tbody tr th {\n",
       "        vertical-align: top;\n",
       "    }\n",
       "\n",
       "    .dataframe thead th {\n",
       "        text-align: right;\n",
       "    }\n",
       "</style>\n",
       "<table border=\"1\" class=\"dataframe\">\n",
       "  <thead>\n",
       "    <tr style=\"text-align: right;\">\n",
       "      <th></th>\n",
       "      <th>Loan_ID</th>\n",
       "      <th>Gender</th>\n",
       "      <th>Married</th>\n",
       "      <th>Dependents</th>\n",
       "      <th>Education</th>\n",
       "      <th>Self_Employed</th>\n",
       "      <th>ApplicantIncome</th>\n",
       "      <th>CoapplicantIncome</th>\n",
       "      <th>LoanAmount</th>\n",
       "      <th>Loan_Amount_Term</th>\n",
       "      <th>Credit_History</th>\n",
       "      <th>Property_Area</th>\n",
       "      <th>Loan_Status</th>\n",
       "    </tr>\n",
       "  </thead>\n",
       "  <tbody>\n",
       "    <tr>\n",
       "      <th>0</th>\n",
       "      <td>LP001002</td>\n",
       "      <td>Male</td>\n",
       "      <td>No</td>\n",
       "      <td>0</td>\n",
       "      <td>Graduate</td>\n",
       "      <td>No</td>\n",
       "      <td>5849</td>\n",
       "      <td>0.0</td>\n",
       "      <td>NaN</td>\n",
       "      <td>360.0</td>\n",
       "      <td>1.0</td>\n",
       "      <td>Urban</td>\n",
       "      <td>Y</td>\n",
       "    </tr>\n",
       "    <tr>\n",
       "      <th>1</th>\n",
       "      <td>LP001003</td>\n",
       "      <td>Male</td>\n",
       "      <td>Yes</td>\n",
       "      <td>1</td>\n",
       "      <td>Graduate</td>\n",
       "      <td>No</td>\n",
       "      <td>4583</td>\n",
       "      <td>1508.0</td>\n",
       "      <td>128.0</td>\n",
       "      <td>360.0</td>\n",
       "      <td>1.0</td>\n",
       "      <td>Rural</td>\n",
       "      <td>N</td>\n",
       "    </tr>\n",
       "    <tr>\n",
       "      <th>2</th>\n",
       "      <td>LP001005</td>\n",
       "      <td>Male</td>\n",
       "      <td>Yes</td>\n",
       "      <td>0</td>\n",
       "      <td>Graduate</td>\n",
       "      <td>Yes</td>\n",
       "      <td>3000</td>\n",
       "      <td>0.0</td>\n",
       "      <td>66.0</td>\n",
       "      <td>360.0</td>\n",
       "      <td>1.0</td>\n",
       "      <td>Urban</td>\n",
       "      <td>Y</td>\n",
       "    </tr>\n",
       "    <tr>\n",
       "      <th>3</th>\n",
       "      <td>LP001006</td>\n",
       "      <td>Male</td>\n",
       "      <td>Yes</td>\n",
       "      <td>0</td>\n",
       "      <td>Not Graduate</td>\n",
       "      <td>No</td>\n",
       "      <td>2583</td>\n",
       "      <td>2358.0</td>\n",
       "      <td>120.0</td>\n",
       "      <td>360.0</td>\n",
       "      <td>1.0</td>\n",
       "      <td>Urban</td>\n",
       "      <td>Y</td>\n",
       "    </tr>\n",
       "    <tr>\n",
       "      <th>4</th>\n",
       "      <td>LP001008</td>\n",
       "      <td>Male</td>\n",
       "      <td>No</td>\n",
       "      <td>0</td>\n",
       "      <td>Graduate</td>\n",
       "      <td>No</td>\n",
       "      <td>6000</td>\n",
       "      <td>0.0</td>\n",
       "      <td>141.0</td>\n",
       "      <td>360.0</td>\n",
       "      <td>1.0</td>\n",
       "      <td>Urban</td>\n",
       "      <td>Y</td>\n",
       "    </tr>\n",
       "  </tbody>\n",
       "</table>\n",
       "</div>"
      ],
      "text/plain": [
       "    Loan_ID Gender Married Dependents     Education Self_Employed  \\\n",
       "0  LP001002   Male      No          0      Graduate            No   \n",
       "1  LP001003   Male     Yes          1      Graduate            No   \n",
       "2  LP001005   Male     Yes          0      Graduate           Yes   \n",
       "3  LP001006   Male     Yes          0  Not Graduate            No   \n",
       "4  LP001008   Male      No          0      Graduate            No   \n",
       "\n",
       "   ApplicantIncome  CoapplicantIncome  LoanAmount  Loan_Amount_Term  \\\n",
       "0             5849                0.0         NaN             360.0   \n",
       "1             4583             1508.0       128.0             360.0   \n",
       "2             3000                0.0        66.0             360.0   \n",
       "3             2583             2358.0       120.0             360.0   \n",
       "4             6000                0.0       141.0             360.0   \n",
       "\n",
       "   Credit_History Property_Area Loan_Status  \n",
       "0             1.0         Urban           Y  \n",
       "1             1.0         Rural           N  \n",
       "2             1.0         Urban           Y  \n",
       "3             1.0         Urban           Y  \n",
       "4             1.0         Urban           Y  "
      ]
     },
     "execution_count": 2,
     "metadata": {},
     "output_type": "execute_result"
    }
   ],
   "source": [
    "#READ THE DATASET\n",
    "\n",
    "df=pd.read_csv('https://raw.githubusercontent.com/dsrscientist/DSData/master/loan_prediction.csv')\n",
    "df.head()"
   ]
  },
  {
   "cell_type": "markdown",
   "id": "7adb8e29",
   "metadata": {},
   "source": [
    "Loans is an important sector of business for the banks,hence this dataset belongs the details of the applicants or customers applying for getting loan.Here the targeted variavle is the \"Loan_Status\" column which belongs Y=Yes and N = No,thus this is a classification problem where we have to predict wheather a loan will be approved or not..The company wants to automate the loan eligibilitty process based on customer details while filling the online application form.These details are Loan Id ,gender,Married,Dependents,education,Self-Employed,Property Area and Loan status are object in nature,Applicant income is integer in nature and CoapplicantIncome,LoanAmount,Loan_Amount_Term and Credit_History are float in nature. # Dataset description: Variables:-\n",
    "\n",
    "Loan_ID -Unique Loan ID\n",
    "\n",
    "Gender -Male/ Female\n",
    "\n",
    "Married -Applicant married (Y/N)\n",
    "\n",
    "Dependents -Number of dependents\n",
    "\n",
    "Education -Applicant Education (Graduate/ Under Graduate)\n",
    "\n",
    "Self_Employed -Self employed (Y/N)\n",
    "\n",
    "ApplicantIncome -Applicant income\n",
    "\n",
    "CoapplicantIncome- Coapplicant income\n",
    "\n",
    "LoanAmount -Loan amount in thousands\n",
    "\n",
    "Loan_Amount_Term -Term of loan in months\n",
    "\n",
    "Credit_History -credit history meets guidelines\n",
    "\n",
    "Property_Area -Urban/ Semi Urban/ Rural\n",
    "\n",
    "Loan_Status -Loan approved (Y/N)"
   ]
  },
  {
   "cell_type": "code",
   "execution_count": 3,
   "id": "38becd8b",
   "metadata": {},
   "outputs": [
    {
     "data": {
      "text/plain": [
       "Loan_ID              614\n",
       "Gender                 2\n",
       "Married                2\n",
       "Dependents             4\n",
       "Education              2\n",
       "Self_Employed          2\n",
       "ApplicantIncome      505\n",
       "CoapplicantIncome    287\n",
       "LoanAmount           203\n",
       "Loan_Amount_Term      10\n",
       "Credit_History         2\n",
       "Property_Area          3\n",
       "Loan_Status            2\n",
       "dtype: int64"
      ]
     },
     "execution_count": 3,
     "metadata": {},
     "output_type": "execute_result"
    }
   ],
   "source": [
    "df.nunique()"
   ]
  },
  {
   "cell_type": "markdown",
   "id": "f98c084b",
   "metadata": {},
   "source": [
    "we can see that Loan id is having most unique set of datas,then ApplicantIncome ,Coapplicant Income, and Loan Amount."
   ]
  },
  {
   "cell_type": "code",
   "execution_count": 4,
   "id": "456607bf",
   "metadata": {},
   "outputs": [
    {
     "data": {
      "text/plain": [
       "(614, 13)"
      ]
     },
     "execution_count": 4,
     "metadata": {},
     "output_type": "execute_result"
    }
   ],
   "source": [
    "df.shape"
   ]
  },
  {
   "cell_type": "markdown",
   "id": "fa2cac89",
   "metadata": {},
   "source": [
    "There are 614 rows and 13 columns in this dataset."
   ]
  },
  {
   "cell_type": "code",
   "execution_count": 5,
   "id": "c83aa1be",
   "metadata": {},
   "outputs": [
    {
     "data": {
      "text/plain": [
       "Index(['Loan_ID', 'Gender', 'Married', 'Dependents', 'Education',\n",
       "       'Self_Employed', 'ApplicantIncome', 'CoapplicantIncome', 'LoanAmount',\n",
       "       'Loan_Amount_Term', 'Credit_History', 'Property_Area', 'Loan_Status'],\n",
       "      dtype='object')"
      ]
     },
     "execution_count": 5,
     "metadata": {},
     "output_type": "execute_result"
    }
   ],
   "source": [
    "df.columns"
   ]
  },
  {
   "cell_type": "code",
   "execution_count": 6,
   "id": "0b092a24",
   "metadata": {},
   "outputs": [
    {
     "name": "stdout",
     "output_type": "stream",
     "text": [
      "<class 'pandas.core.frame.DataFrame'>\n",
      "RangeIndex: 614 entries, 0 to 613\n",
      "Data columns (total 13 columns):\n",
      " #   Column             Non-Null Count  Dtype  \n",
      "---  ------             --------------  -----  \n",
      " 0   Loan_ID            614 non-null    object \n",
      " 1   Gender             601 non-null    object \n",
      " 2   Married            611 non-null    object \n",
      " 3   Dependents         599 non-null    object \n",
      " 4   Education          614 non-null    object \n",
      " 5   Self_Employed      582 non-null    object \n",
      " 6   ApplicantIncome    614 non-null    int64  \n",
      " 7   CoapplicantIncome  614 non-null    float64\n",
      " 8   LoanAmount         592 non-null    float64\n",
      " 9   Loan_Amount_Term   600 non-null    float64\n",
      " 10  Credit_History     564 non-null    float64\n",
      " 11  Property_Area      614 non-null    object \n",
      " 12  Loan_Status        614 non-null    object \n",
      "dtypes: float64(4), int64(1), object(8)\n",
      "memory usage: 62.5+ KB\n"
     ]
    }
   ],
   "source": [
    "df.info()"
   ]
  },
  {
   "cell_type": "markdown",
   "id": "e0e081b2",
   "metadata": {},
   "source": [
    "We can see that,Loan Id ,gender,Married,Dependents,education,Self-Employed,Property Area and Loan status are object in nature.\n",
    "\n",
    "Applicant income is integer in nature and CoapplicantIncome,LoanAmount,Loan_Amount_Term and Credit_History are float in nature.\n"
   ]
  },
  {
   "cell_type": "code",
   "execution_count": 7,
   "id": "e6d6a011",
   "metadata": {},
   "outputs": [
    {
     "data": {
      "text/plain": [
       "Loan_ID               object\n",
       "Gender                object\n",
       "Married               object\n",
       "Dependents            object\n",
       "Education             object\n",
       "Self_Employed         object\n",
       "ApplicantIncome        int64\n",
       "CoapplicantIncome    float64\n",
       "LoanAmount           float64\n",
       "Loan_Amount_Term     float64\n",
       "Credit_History       float64\n",
       "Property_Area         object\n",
       "Loan_Status           object\n",
       "dtype: object"
      ]
     },
     "execution_count": 7,
     "metadata": {},
     "output_type": "execute_result"
    }
   ],
   "source": [
    "df.dtypes"
   ]
  },
  {
   "cell_type": "markdown",
   "id": "de426206",
   "metadata": {},
   "source": [
    "We can see that,Loan Id ,gender,Married,Dependents,education,Self-Employed,Property Area and Loan status are object in nature.\n",
    "\n",
    "Applicant income is integer in nature and CoapplicantIncome,LoanAmount,Loan_Amount_Term and Credit_History are float in nature."
   ]
  },
  {
   "cell_type": "code",
   "execution_count": 8,
   "id": "3a1bad41",
   "metadata": {},
   "outputs": [
    {
     "data": {
      "text/html": [
       "<div>\n",
       "<style scoped>\n",
       "    .dataframe tbody tr th:only-of-type {\n",
       "        vertical-align: middle;\n",
       "    }\n",
       "\n",
       "    .dataframe tbody tr th {\n",
       "        vertical-align: top;\n",
       "    }\n",
       "\n",
       "    .dataframe thead th {\n",
       "        text-align: right;\n",
       "    }\n",
       "</style>\n",
       "<table border=\"1\" class=\"dataframe\">\n",
       "  <thead>\n",
       "    <tr style=\"text-align: right;\">\n",
       "      <th></th>\n",
       "      <th>count</th>\n",
       "      <th>mean</th>\n",
       "      <th>std</th>\n",
       "      <th>min</th>\n",
       "      <th>25%</th>\n",
       "      <th>50%</th>\n",
       "      <th>75%</th>\n",
       "      <th>max</th>\n",
       "    </tr>\n",
       "  </thead>\n",
       "  <tbody>\n",
       "    <tr>\n",
       "      <th>ApplicantIncome</th>\n",
       "      <td>614.0</td>\n",
       "      <td>5403.459283</td>\n",
       "      <td>6109.041673</td>\n",
       "      <td>150.0</td>\n",
       "      <td>2877.5</td>\n",
       "      <td>3812.5</td>\n",
       "      <td>5795.00</td>\n",
       "      <td>81000.0</td>\n",
       "    </tr>\n",
       "    <tr>\n",
       "      <th>CoapplicantIncome</th>\n",
       "      <td>614.0</td>\n",
       "      <td>1621.245798</td>\n",
       "      <td>2926.248369</td>\n",
       "      <td>0.0</td>\n",
       "      <td>0.0</td>\n",
       "      <td>1188.5</td>\n",
       "      <td>2297.25</td>\n",
       "      <td>41667.0</td>\n",
       "    </tr>\n",
       "    <tr>\n",
       "      <th>LoanAmount</th>\n",
       "      <td>592.0</td>\n",
       "      <td>146.412162</td>\n",
       "      <td>85.587325</td>\n",
       "      <td>9.0</td>\n",
       "      <td>100.0</td>\n",
       "      <td>128.0</td>\n",
       "      <td>168.00</td>\n",
       "      <td>700.0</td>\n",
       "    </tr>\n",
       "    <tr>\n",
       "      <th>Loan_Amount_Term</th>\n",
       "      <td>600.0</td>\n",
       "      <td>342.000000</td>\n",
       "      <td>65.120410</td>\n",
       "      <td>12.0</td>\n",
       "      <td>360.0</td>\n",
       "      <td>360.0</td>\n",
       "      <td>360.00</td>\n",
       "      <td>480.0</td>\n",
       "    </tr>\n",
       "    <tr>\n",
       "      <th>Credit_History</th>\n",
       "      <td>564.0</td>\n",
       "      <td>0.842199</td>\n",
       "      <td>0.364878</td>\n",
       "      <td>0.0</td>\n",
       "      <td>1.0</td>\n",
       "      <td>1.0</td>\n",
       "      <td>1.00</td>\n",
       "      <td>1.0</td>\n",
       "    </tr>\n",
       "  </tbody>\n",
       "</table>\n",
       "</div>"
      ],
      "text/plain": [
       "                   count         mean          std    min     25%     50%  \\\n",
       "ApplicantIncome    614.0  5403.459283  6109.041673  150.0  2877.5  3812.5   \n",
       "CoapplicantIncome  614.0  1621.245798  2926.248369    0.0     0.0  1188.5   \n",
       "LoanAmount         592.0   146.412162    85.587325    9.0   100.0   128.0   \n",
       "Loan_Amount_Term   600.0   342.000000    65.120410   12.0   360.0   360.0   \n",
       "Credit_History     564.0     0.842199     0.364878    0.0     1.0     1.0   \n",
       "\n",
       "                       75%      max  \n",
       "ApplicantIncome    5795.00  81000.0  \n",
       "CoapplicantIncome  2297.25  41667.0  \n",
       "LoanAmount          168.00    700.0  \n",
       "Loan_Amount_Term    360.00    480.0  \n",
       "Credit_History        1.00      1.0  "
      ]
     },
     "execution_count": 8,
     "metadata": {},
     "output_type": "execute_result"
    }
   ],
   "source": [
    "# Statistical summary\n",
    "df.describe().T"
   ]
  },
  {
   "cell_type": "markdown",
   "id": "9e9777fe",
   "metadata": {},
   "source": [
    "We can see in count that all the values are not same thus,the data set is having missing values.\n",
    "\n",
    "ApplicantIncome is having min values of 150 and maximum values of 81000.\n",
    "\n",
    "CoapplicantIncome is having minimum values of 0.0 and maximum values of 41667.\n",
    "\n",
    "Loan Amount is havinig minimum values of 9.0 and maximum values of 700.0\n",
    "\n",
    "Loan amount term is havng minimum values of 12.0 months and maximum values of 480 months.\n",
    "\n",
    "credit history is havng max values of 1.0 and mininmum of 0.0.\n",
    "\n",
    "There is skewnes in the dataset because the differnce between the standard deviation and mean is very high,we will remove the skewness latter."
   ]
  },
  {
   "cell_type": "code",
   "execution_count": 9,
   "id": "9b8a3f06",
   "metadata": {},
   "outputs": [
    {
     "data": {
      "text/plain": [
       "Loan_ID               0\n",
       "Gender               13\n",
       "Married               3\n",
       "Dependents           15\n",
       "Education             0\n",
       "Self_Employed        32\n",
       "ApplicantIncome       0\n",
       "CoapplicantIncome     0\n",
       "LoanAmount           22\n",
       "Loan_Amount_Term     14\n",
       "Credit_History       50\n",
       "Property_Area         0\n",
       "Loan_Status           0\n",
       "dtype: int64"
      ]
     },
     "execution_count": 9,
     "metadata": {},
     "output_type": "execute_result"
    }
   ],
   "source": [
    "df.isnull().sum()"
   ]
  },
  {
   "cell_type": "markdown",
   "id": "ae4f6b0e",
   "metadata": {},
   "source": [
    "There is null values in different columns like Gender,Married,Dependents,Self_Employed,LoanAmount,Loan_Amount_Term and Credit History."
   ]
  },
  {
   "cell_type": "code",
   "execution_count": 10,
   "id": "0472a2a2",
   "metadata": {},
   "outputs": [],
   "source": [
    "# filling the missing values of the numerical columns:\n",
    "df['LoanAmount'] = df['LoanAmount'].fillna(df['LoanAmount'].mean())\n",
    "df['Loan_Amount_Term'] = df['Loan_Amount_Term'].fillna(df['Loan_Amount_Term'].mean())\n",
    "df['Credit_History'] = df['Credit_History'].fillna(df['Credit_History'].mean())"
   ]
  },
  {
   "cell_type": "markdown",
   "id": "9acf1539",
   "metadata": {},
   "source": [
    "Filling the missing values in numerical columns by using mean method."
   ]
  },
  {
   "cell_type": "code",
   "execution_count": 11,
   "id": "7a14a128",
   "metadata": {},
   "outputs": [],
   "source": [
    "#filling the missing values of the categorical columns:\n",
    "df['Gender'] = df['Gender'].fillna(df['Gender'].mode()[0])\n",
    "df['Dependents'] = df['Dependents'].fillna(df['Dependents'].mode()[0])\n",
    "df['Married'] = df['Married'].fillna(df['Married'].mode()[0])\n",
    "df['Self_Employed'] = df['Self_Employed'].fillna(df['Self_Employed'].mode()[0])"
   ]
  },
  {
   "cell_type": "markdown",
   "id": "e0e32876",
   "metadata": {},
   "source": [
    "Filling the missing values in categorical columns by using mode method."
   ]
  },
  {
   "cell_type": "code",
   "execution_count": 12,
   "id": "9c4a4dd2",
   "metadata": {},
   "outputs": [
    {
     "data": {
      "text/plain": [
       "Loan_ID              0\n",
       "Gender               0\n",
       "Married              0\n",
       "Dependents           0\n",
       "Education            0\n",
       "Self_Employed        0\n",
       "ApplicantIncome      0\n",
       "CoapplicantIncome    0\n",
       "LoanAmount           0\n",
       "Loan_Amount_Term     0\n",
       "Credit_History       0\n",
       "Property_Area        0\n",
       "Loan_Status          0\n",
       "dtype: int64"
      ]
     },
     "execution_count": 12,
     "metadata": {},
     "output_type": "execute_result"
    }
   ],
   "source": [
    "df.isnull().sum()"
   ]
  },
  {
   "cell_type": "markdown",
   "id": "03a73e91",
   "metadata": {},
   "source": [
    "All the null values are filled and all the columns are showing 0 missing values."
   ]
  },
  {
   "cell_type": "markdown",
   "id": "a217c445",
   "metadata": {},
   "source": [
    "EDA:"
   ]
  },
  {
   "cell_type": "markdown",
   "id": "d1469c8e",
   "metadata": {},
   "source": [
    "BI VARIATE ANALYSIS:"
   ]
  },
  {
   "cell_type": "code",
   "execution_count": 14,
   "id": "1a919882",
   "metadata": {},
   "outputs": [
    {
     "data": {
      "text/plain": [
       "Male      502\n",
       "Female    112\n",
       "Name: Gender, dtype: int64"
      ]
     },
     "execution_count": 14,
     "metadata": {},
     "output_type": "execute_result"
    }
   ],
   "source": [
    "#Counting Gender Column\n",
    "df['Gender'].value_counts()"
   ]
  },
  {
   "cell_type": "code",
   "execution_count": null,
   "id": "64e50ef0",
   "metadata": {},
   "outputs": [],
   "source": []
  }
 ],
 "metadata": {
  "kernelspec": {
   "display_name": "Python 3 (ipykernel)",
   "language": "python",
   "name": "python3"
  },
  "language_info": {
   "codemirror_mode": {
    "name": "ipython",
    "version": 3
   },
   "file_extension": ".py",
   "mimetype": "text/x-python",
   "name": "python",
   "nbconvert_exporter": "python",
   "pygments_lexer": "ipython3",
   "version": "3.9.7"
  }
 },
 "nbformat": 4,
 "nbformat_minor": 5
}
